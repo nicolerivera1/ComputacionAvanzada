{
 "cells": [
  {
   "cell_type": "markdown",
   "id": "1c283bba-3bf2-4d85-8882-0cd49028d5d0",
   "metadata": {},
   "source": [
    "# U1 annommalies paralelization \n",
    "\n",
    "**by: Nicole Rivera**\n",
    "\n",
    "Here you will find a proposed paralelization using anomalies 0.2.4 pip package to find U1 annommalies described in *paper*"
   ]
  },
  {
   "cell_type": "code",
   "execution_count": null,
   "id": "d5d358eb-0287-4ee2-9d67-1fc332225c0f",
   "metadata": {},
   "outputs": [],
   "source": []
  },
  {
   "cell_type": "code",
   "execution_count": null,
   "id": "6ebb1cfb-113e-433c-b511-5a9f72a987b0",
   "metadata": {},
   "outputs": [],
   "source": []
  },
  {
   "cell_type": "code",
   "execution_count": null,
   "id": "2801b4a1-081a-4b39-9b43-e06e73e71d3f",
   "metadata": {},
   "outputs": [],
   "source": []
  }
 ],
 "metadata": {
  "kernelspec": {
   "display_name": "Python 3 (ipykernel)",
   "language": "python",
   "name": "python3"
  },
  "language_info": {
   "codemirror_mode": {
    "name": "ipython",
    "version": 3
   },
   "file_extension": ".py",
   "mimetype": "text/x-python",
   "name": "python",
   "nbconvert_exporter": "python",
   "pygments_lexer": "ipython3",
   "version": "3.8.13"
  }
 },
 "nbformat": 4,
 "nbformat_minor": 5
}
