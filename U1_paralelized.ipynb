{
 "cells": [
  {
   "cell_type": "markdown",
   "id": "1c283bba-3bf2-4d85-8882-0cd49028d5d0",
   "metadata": {},
   "source": [
    "# U1 annommalies paralelization \n",
    "\n",
    "**by: Nicole Rivera**\n",
    "\n",
    "This code runs a proposed paralelization to find U1 annommalies described in [Costa *et.al.*](https://doi.org/10.48550/arXiv.1905.13729). "
   ]
  },
  {
   "cell_type": "code",
   "execution_count": 1,
   "id": "d5d358eb-0287-4ee2-9d67-1fc332225c0f",
   "metadata": {},
   "outputs": [],
   "source": [
    "from anomalies import anomaly\n",
    "import numpy as np\n",
    "import multiprocessing\n",
    "import time "
   ]
  },
  {
   "cell_type": "markdown",
   "id": "5a8c612a-74aa-43b6-bd52-7b5cfc9a8544",
   "metadata": {
    "jp-MarkdownHeadingCollapsed": true,
    "tags": []
   },
   "source": [
    "## Anomalies pakage\n",
    "\n",
    "First we implement paralelization using [anomalies 0.2.4](https://pypi.org/project/anomalies/) pip package"
   ]
  },
  {
   "cell_type": "code",
   "execution_count": 2,
   "id": "998ac7a3-2a26-4ab5-afb9-fcdeaae3c9f3",
   "metadata": {},
   "outputs": [],
   "source": [
    "def U1_sol(n):\n",
    "    \"\"\"n size solution calculator\"\"\"\n",
    "    \n",
    "    # choose m according to parity\n",
    "    if n%2 == 0 and n > 2:\n",
    "        m = int(n/2 - 1)\n",
    "    elif n%2 != 0 and n >= 5:\n",
    "        m = int((n - 3)/2)\n",
    "    \n",
    "    # create k,l of size m\n",
    "    k = np.random.randint(-5, 5, size=m)\n",
    "    l = np.random.randint(-6, 6, size=m)\n",
    "    \n",
    "    # get U1 solution of size n\n",
    "    U1_ns = anomaly.free(l, k)\n",
    "    U1_s = anomaly.free.simplified   \n",
    "    \n",
    "    return U1_s\n",
    "\n",
    "def U1_quiral_solutions(n0):\n",
    "    \"\"\" U1 quiral solutions selection function \"\"\"\n",
    "    \n",
    "    # set acceptance variable\n",
    "    ac = 0\n",
    "    while ac == 0: # repeat while acceptance is cero\n",
    "        \n",
    "        z = U1_sol(n0) # proposed solution\n",
    "        \n",
    "        # discard if any value is greater than 30\n",
    "        if np.any(np.abs(z)>30) or np.any(np.abs(z) == 0):\n",
    "            #print(\"mayor que 30\")\n",
    "            ac = 0\n",
    "            continue\n",
    "        \n",
    "        # vector-like comprobation\n",
    "        uniq_abs = np.unique(np.abs(z)).shape[0]\n",
    "        uniq_all = np.unique(z).shape[0]\n",
    "        \n",
    "        if uniq_abs == uniq_all:\n",
    "            #print(\"quiral solution\")\n",
    "            ac = 1\n",
    "            break \n",
    "        else:\n",
    "            #print(\"vector-like solution\")\n",
    "            ac = 0\n",
    "            \n",
    "    return z"
   ]
  },
  {
   "cell_type": "code",
   "execution_count": 3,
   "id": "8dde91cf-46a1-4067-8a23-feef9ad9c5f3",
   "metadata": {},
   "outputs": [
    {
     "name": "stdout",
     "output_type": "stream",
     "text": [
      "Program finished in 0.002628275000006397 seconds\n",
      "[  1   4   5 -12 -15  17]\n"
     ]
    }
   ],
   "source": [
    "t0 = time.perf_counter()\n",
    "z_t = U1_quiral_solutions(6)\n",
    "tf = time.perf_counter()\n",
    "print(f\"Program finished in {tf-t0} seconds\")\n",
    "print(z_t)"
   ]
  },
  {
   "cell_type": "code",
   "execution_count": 4,
   "id": "bead24f1-f3c9-4cb9-bf3a-c980a7fb2fe6",
   "metadata": {},
   "outputs": [
    {
     "name": "stderr",
     "output_type": "stream",
     "text": [
      "/home/nicole/.local/lib/python3.8/site-packages/anomalies/anomaly.py:49: RuntimeWarning: invalid value encountered in divide\n",
      "  self.simplified=(zz/self.gcd).astype(int)\n",
      "/home/nicole/.local/lib/python3.8/site-packages/anomalies/anomaly.py:49: RuntimeWarning: invalid value encountered in divide\n",
      "  self.simplified=(zz/self.gcd).astype(int)\n"
     ]
    },
    {
     "name": "stdout",
     "output_type": "stream",
     "text": [
      "Program finished in 0.0049578290000908964 seconds\n",
      "[array([-9223372036854775808, -9223372036854775808, -9223372036854775808,\n",
      "       -9223372036854775808]), array([-9223372036854775808, -9223372036854775808, -9223372036854775808,\n",
      "       -9223372036854775808, -9223372036854775808, -9223372036854775808]), array([-9223372036854775808, -9223372036854775808, -9223372036854775808,\n",
      "       -9223372036854775808, -9223372036854775808, -9223372036854775808])]\n"
     ]
    },
    {
     "name": "stderr",
     "output_type": "stream",
     "text": [
      "/home/nicole/.local/lib/python3.8/site-packages/anomalies/anomaly.py:49: RuntimeWarning: invalid value encountered in divide\n",
      "  self.simplified=(zz/self.gcd).astype(int)\n"
     ]
    }
   ],
   "source": [
    "### --- multiprocessing --- #\n",
    "\n",
    "if __name__ == \"__main__\":\n",
    "    pool = multiprocessing.Pool(3)\n",
    "    start_time = time.perf_counter()\n",
    "    processes = [pool.apply_async(U1_quiral_solutions, args=(n,)) for n in range(5, 8)]\n",
    "    result = [p.get() for p in processes]\n",
    "    finish_time = time.perf_counter()\n",
    "    print(f\"Program finished in {finish_time-start_time} seconds\")\n",
    "    print(result)"
   ]
  },
  {
   "cell_type": "code",
   "execution_count": null,
   "id": "3e78862d-fef8-498e-bd37-e3a69683505d",
   "metadata": {},
   "outputs": [],
   "source": []
  },
  {
   "cell_type": "markdown",
   "id": "e8be3e95-0b69-4369-aecb-06f6e68aeab3",
   "metadata": {},
   "source": [
    "## Own code\n",
    "\n",
    "Then we implement the paralelization using only our code. This is  made because there is a possible implementation error using anomalies library."
   ]
  },
  {
   "cell_type": "code",
   "execution_count": 2,
   "id": "98c4abbc-6309-411a-8cfb-3138ee6f31d9",
   "metadata": {},
   "outputs": [],
   "source": [
    "def merge_op(x, y):\n",
    "    \"\"\" merge operation for z with specified x, y\"\"\"\n",
    "    return np.sum( x*(y**2) )*x - np.sum( (x**2) * y )*y \n",
    "\n",
    "def even(n):\n",
    "    \"\"\" even sized U1 solution calculator\"\"\"\n",
    "    \n",
    "    m = int(n/2 - 1) # k, l size \n",
    "\n",
    "    k = np.random.randint(1, 10, size=m)\n",
    "    l = np.random.randint(1, 10, size=m)\n",
    "    \n",
    "    # generate plus and minus vector \n",
    "    vp = np.concatenate(([l[0]], k, [-l[0]], -k))\n",
    "    vm = np.concatenate(([0,0], l, -l))\n",
    "    \n",
    "    # calculate z\n",
    "    z = merge_op(vp, vm)\n",
    "    \n",
    "    return z\n",
    "\n",
    "def odd(n):\n",
    "    \"\"\" odd sized U1 solution calculator\"\"\"\n",
    "    \n",
    "    m = int((n - 3)/2) # k, l size\n",
    "    \n",
    "    k = np.random.randint(1, 10, size=m+1)\n",
    "    l = np.random.randint(1, 10, size=m)\n",
    "    \n",
    "    # generate plus and minus vector \n",
    "    up = np.concatenate(([0], k, -k))\n",
    "    um = np.concatenate((l, [k[0], 0], -l, [-k[0]]))\n",
    "    \n",
    "    # calculate z\n",
    "    z = merge_op(up, um)\n",
    "    \n",
    "    return z\n",
    "\n",
    "def no_vectorlike(z):\n",
    "    \"\"\" classifies if z is vector-like or quiral solution \"\"\"\n",
    "    \n",
    "    # gets unique values of z and its absolute value elemets\n",
    "    uniq_abs = np.unique(np.abs(z)).shape[0]\n",
    "    uniq_all = np.unique(z).shape[0]\n",
    "    \n",
    "    if uniq_abs == uniq_all:\n",
    "        # if unique values are equal to absolute unique values the z is quiral\n",
    "        return 1\n",
    "    else:\n",
    "        # otherwise is vector-like\n",
    "        return 0\n",
    "\n",
    "def prueba_U1(q):\n",
    "    \"\"\" proof operations of U1 group \"\"\"\n",
    "    \n",
    "    a3 = np.sum(q**3)\n",
    "    a1 = np.sum(q)\n",
    "    \n",
    "    return (a3, a1)\n",
    "\n",
    "### ---- Funcion principal ----###\n",
    "def joint(n0):\n",
    "    \"\"\" main function to calculate quiral U1 solutions \"\"\"\n",
    "    \n",
    "    rs = 0 # aceptance variable - 0 is no-quiral, 1 is quiral\n",
    "    \n",
    "    while rs == 0: \n",
    "        \n",
    "        # gets z according to case\n",
    "        if n0%2 == 0 and n0 > 2:\n",
    "            zf = even(n0)\n",
    "        elif n0%2 != 0 and n0 >= 5:\n",
    "            zf = odd(n0)\n",
    "        else:\n",
    "            print(\"ingrese entero positivo válido\")\n",
    "            rs = 2 \n",
    "            break\n",
    "            \n",
    "        div = np.gcd.reduce(zf) # finds z greater common divisor\n",
    "    \n",
    "        rs = no_vectorlike(zf) # evaluates if z is vector-like\n",
    "        \n",
    "        # evaluates other conditions over z\n",
    "        if rs  == 1:\n",
    "            zn = zf/div # reduced z by its gcd\n",
    "            if np.any(np.abs(zn)>30) or np.any(np.abs(zn) == 0):\n",
    "                # all elements must be non zero and minor than 30\n",
    "                rs = 0\n",
    "                continue\n",
    "            else:\n",
    "                #return (zn, div) #use this if you also need gcd information\n",
    "                return zn # use this if you only need z \n",
    "                break"
   ]
  },
  {
   "cell_type": "code",
   "execution_count": 3,
   "id": "660dd19c-579c-4dd1-b20c-cad2211896d9",
   "metadata": {},
   "outputs": [
    {
     "name": "stdout",
     "output_type": "stream",
     "text": [
      "Program finished in 0.0077715309998893645 seconds\n",
      "[-12. -15. -20.  17.  11.  19.]\n"
     ]
    }
   ],
   "source": [
    "t0 = time.perf_counter()\n",
    "z_n = joint(6)\n",
    "tf = time.perf_counter()\n",
    "print(f\"Program finished in {tf-t0} seconds\")\n",
    "print(z_n)"
   ]
  },
  {
   "cell_type": "code",
   "execution_count": 7,
   "id": "13a153a2-a860-45b9-9b0e-0cf69736df7b",
   "metadata": {},
   "outputs": [],
   "source": [
    "# --- size of solution --- #\n",
    "n_values = np.full(10000, 5)"
   ]
  },
  {
   "cell_type": "code",
   "execution_count": 8,
   "id": "43514b07-167d-4909-aeda-3117a17680a3",
   "metadata": {},
   "outputs": [
    {
     "name": "stdout",
     "output_type": "stream",
     "text": [
      "Program finished in 1.165443759000027 seconds\n",
      "[-25. -14.   9.   4.  26.]\n",
      "[-23.   2.  18. -25.  28.]\n",
      "[-22.  -6.  12.  -5.  21.]\n",
      "[-22.   9.   7. -20.  26.]\n",
      "[-21. -12.   5.   6.  22.]\n",
      "[-21. -12.   6.   5.  22.]\n",
      "[-18. -28.  -2.  25.  23.]\n",
      "[-18.  -2.  23. -28.  25.]\n",
      "[-17.   8.   7. -25.  27.]\n",
      "[-14. -20.  -1.  18.  17.]\n",
      "[-14.   5.   8. -26.  27.]\n",
      "[-12.   6.  22. -21.   5.]\n",
      "[-10.  -2.   7.  -4.   9.]\n",
      "[-9.  4.  2. -7. 10.]\n",
      "[ -9.  14.  25. -26.  -4.]\n",
      "[ -8.  -5.  14. -27.  26.]\n",
      "[ -7. -27.  -8.  25.  17.]\n",
      "[ -7.  -9.  22. -26.  20.]\n",
      "[ -7.  -8.  17. -27.  25.]\n",
      "[-7.  1.  5. -8.  9.]\n",
      "[-7.  2.  4. -9. 10.]\n",
      "[-7.  2. 10. -9.  4.]\n",
      "[ -6.  12.  21. -22.  -5.]\n",
      "[-5. -9. -1.  8.  7.]\n",
      "[-5. -1.  7. -9.  8.]\n",
      "[ -5.  12.  21. -22.  -6.]\n",
      "[ -4. -10.  -2.   9.   7.]\n",
      "[ -4.  -2.   7. -10.   9.]\n",
      "[ -2.  -4.   9. -10.   7.]\n",
      "[ 1.  9.  5. -7. -8.]\n",
      "[  1.  20.  14. -17. -18.]\n",
      "[ 2. 10.  4. -7. -9.]\n",
      "[  2.  28.  18. -23. -25.]\n",
      "[ 4. 10. -9.  2. -7.]\n",
      "[ 5. -8. -7.  9.  1.]\n",
      "[ 5. -7. -8.  9.  1.]\n",
      "[ 5.  9. -8.  1. -7.]\n",
      "[ 5.  9. -7.  1. -8.]\n",
      "[  6. -21. -12.  22.   5.]\n",
      "[ 7. -9. -5.  8. -1.]\n",
      "[  7.  -4. -10.  -2.   9.]\n",
      "[ 7.  8. -9. -1. -5.]\n",
      "[ 7.  8. -5. -1. -9.]\n",
      "[  7.   9. -10.  -2.  -4.]\n",
      "[ 8. -9. -5.  7. -1.]\n",
      "[ 8. -5. -9.  7. -1.]\n",
      "[ 8. -1. -9. -5.  7.]\n",
      "[ 8.  7. -9. -1. -5.]\n",
      "[ 8.  7. -5. -1. -9.]\n",
      "[  8.  25. -18.   7. -22.]\n",
      "[  8.  27.   7. -17. -25.]\n",
      "[  9. -10.  -4.   7.  -2.]\n",
      "[ 9. -8. -7.  5.  1.]\n",
      "[ 9. -7. -8.  5.  1.]\n",
      "[  9.  -4. -10.   7.  -2.]\n",
      "[  9.  -2. -10.  -4.   7.]\n",
      "[ 9.  1. -8. -7.  5.]\n",
      "[ 9.  5. -8.  1. -7.]\n",
      "[  9.   7. -10.  -4.  -2.]\n",
      "[10. -9. -7.  4.  2.]\n",
      "[10. -7. -9.  2.  4.]\n",
      "[10.  2. -9. -7.  4.]\n",
      "[10.  4. -9.  2. -7.]\n",
      "[10.  4. -7. -9.  2.]\n",
      "[ 11.  28. -18.   5. -26.]\n",
      "[ 12.  21.  -6.  -5. -22.]\n",
      "[ 14. -18. -17.  20.   1.]\n",
      "[ 14.  20. -18.   1. -17.]\n",
      "[ 17.  18. -20.  -1. -14.]\n",
      "[ 17.  18. -14.  -1. -20.]\n",
      "[ 17.  25. -27.  -8.  -7.]\n",
      "[ 18. -28. -11.  26.  -5.]\n",
      "[ 18. -25.  -8.  22.  -7.]\n",
      "[ 18. -20. -14.  17.  -1.]\n",
      "[ 18. -14. -20.  17.  -1.]\n",
      "[ 18.  -5. -28. -11.  26.]\n",
      "[ 18.  -1. -20. -14.  17.]\n",
      "[ 20. -18. -17.  14.   1.]\n",
      "[ 20.  -9. -26.  -7.  22.]\n",
      "[ 20.   1. -18. -17.  14.]\n",
      "[ 20.  14. -18.   1. -17.]\n",
      "[ 21.  -6. -22.  12.  -5.]\n",
      "[ 22.   6. -21.   5. -12.]\n",
      "[ 22.  18. -25.  -7.  -8.]\n",
      "[ 22.  20. -26.  -9.  -7.]\n",
      "[ 23.  25. -28.  -2. -18.]\n",
      "[ 25. -18. -22.   8.   7.]\n",
      "[ 25.  -9. -26.  14.  -4.]\n",
      "[ 25.  -8. -27.  -7.  17.]\n",
      "[ 25.  -2. -28. -18.  23.]\n",
      "[ 26. -20. -22.   7.   9.]\n",
      "[ 26.  -5. -27.  -8.  14.]\n",
      "[ 26.   9. -25.   4. -14.]\n",
      "[ 26.   9. -20. -22.   7.]\n",
      "[ 26.  18. -28.  -5. -11.]\n",
      "[ 27. -25. -17.   7.   8.]\n",
      "[ 27.   5. -26. -14.   8.]\n",
      "[ 27.   8. -25. -17.   7.]\n",
      "[ 28. -25. -23.  18.   2.]\n",
      "[ 28. -18. -26.  11.   5.]\n",
      "[ 28.   2. -25. -23.  18.]\n",
      "[ 28.   5. -18. -26.  11.]\n"
     ]
    }
   ],
   "source": [
    "# --- multiprocessing --- #\n",
    "\n",
    "if __name__ == \"__main__\":\n",
    "    pool = multiprocessing.Pool(4)\n",
    "    start_time = time.perf_counter()\n",
    "    result = pool.map(joint, n_values)\n",
    "    finish_time = time.perf_counter()\n",
    "    print(f\"Program finished in {finish_time-start_time} seconds\")\n",
    "    \n",
    "    for z in np.unique(result, axis=0):\n",
    "        print(z)"
   ]
  },
  {
   "cell_type": "code",
   "execution_count": null,
   "id": "a305a869-a807-4e2b-9b6d-7efb1c695fd3",
   "metadata": {},
   "outputs": [],
   "source": []
  },
  {
   "cell_type": "code",
   "execution_count": null,
   "id": "557a4288-2654-4a23-ad8e-c82d45bf8f63",
   "metadata": {},
   "outputs": [],
   "source": []
  },
  {
   "cell_type": "code",
   "execution_count": null,
   "id": "734ce2e9-5f3f-42a1-a572-4c47587cb907",
   "metadata": {},
   "outputs": [],
   "source": []
  }
 ],
 "metadata": {
  "kernelspec": {
   "display_name": "Python 3.10.4 64-bit",
   "language": "python",
   "name": "python3"
  },
  "language_info": {
   "codemirror_mode": {
    "name": "ipython",
    "version": 3
   },
   "file_extension": ".py",
   "mimetype": "text/x-python",
   "name": "python",
   "nbconvert_exporter": "python",
   "pygments_lexer": "ipython3",
   "version": "3.10.4"
  },
  "vscode": {
   "interpreter": {
    "hash": "916dbcbb3f70747c44a77c7bcd40155683ae19c65e1c03b4aa3499c5328201f1"
   }
  }
 },
 "nbformat": 4,
 "nbformat_minor": 5
}
