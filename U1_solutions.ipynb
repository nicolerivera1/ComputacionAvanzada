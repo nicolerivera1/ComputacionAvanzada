{
 "cells": [
  {
   "cell_type": "markdown",
   "id": "e3964ad7-4a1d-4369-b97c-418f0b7107bb",
   "metadata": {},
   "source": [
    "# Solutions to U(1) anomaly equations\n",
    "\n",
    "**Nicole Rivera**\n",
    "Para el curso de computación avanzada\n",
    "\n",
    "Se implementará una primera solución a bajos n del método propuesto por Costa y colaboradores para encontrar soluciones quirales a las ecuaciones\n",
    "\n",
    "$$ z_1^{3} + \\dots + z_n^{3} = 0 $$\n",
    "\n",
    "$$ z_1 + \\dots + z_n = 0 $$\n",
    "\n",
    "Basado en el articulo https://doi.org/10.1103/PhysRevLett.123.151601"
   ]
  },
  {
   "cell_type": "code",
   "execution_count": 1,
   "id": "08fd3680-a55e-471a-9a2d-002673515984",
   "metadata": {},
   "outputs": [],
   "source": [
    "import numpy as np"
   ]
  },
  {
   "cell_type": "code",
   "execution_count": 4,
   "id": "e3a63f82-e904-4471-99a3-d2a7fcb5a9c0",
   "metadata": {},
   "outputs": [],
   "source": [
    "def merge_op(x, y):\n",
    "    return np.sum( x*(y**2) )*x - np.sum( (x**2) * y )*y \n",
    "\n",
    "def even(n):\n",
    "    \n",
    "    m = int(n/2 - 1) \n",
    "\n",
    "    k = np.random.randint(1, 10, size=m)\n",
    "    l = np.random.randint(1, 10, size=m)\n",
    "\n",
    "    vp = np.concatenate(([l[0]], k, [-l[0]], -k))\n",
    "    vm = np.concatenate(([0,0], l, -l))\n",
    "    \n",
    "    z = merge_op(vp, vm)\n",
    "    \n",
    "    return z\n",
    "\n",
    "def odd(n):\n",
    "    \n",
    "    m = int((n - 3)/2)\n",
    "    \n",
    "    k = np.random.randint(1, 10, size=m+1)\n",
    "    l = np.random.randint(1, 10, size=m)\n",
    "    \n",
    "    up = np.concatenate(([0], k, -k))\n",
    "    um = np.concatenate((l, [k[0], 0], -l, [-k[0]]))\n",
    "    \n",
    "    z = merge_op(up, um)\n",
    "    \n",
    "    return z\n",
    "\n",
    "def no_vectorlike(z):\n",
    "    \n",
    "    uniq_abs = np.unique(np.abs(z)).shape[0]\n",
    "    uniq_all = np.unique(z).shape[0]\n",
    "    \n",
    "    if uniq_abs == uniq_all:\n",
    "        #print(\"quiral solution\")\n",
    "        return 1\n",
    "    else:\n",
    "        #print(\"vector-like solution\")\n",
    "        return 0\n",
    "\n",
    "def prueba_U1(q):\n",
    "    \n",
    "    a3 = np.sum(q**3)\n",
    "    a1 = np.sum(q)\n",
    "    \n",
    "    return (a3, a1)\n",
    "\n",
    "### ---- Funcion principal ----###\n",
    "def main(n0):\n",
    "    \n",
    "    rs = 0\n",
    "    while rs == 0:\n",
    "    \n",
    "        if n0%2 == 0 and n0 > 2:\n",
    "            zf = even(n0)\n",
    "        elif n0%2 != 0 and n0 >= 5:\n",
    "            zf = odd(n0)\n",
    "        else:\n",
    "            print(\"ingrese entero positivo válido\")\n",
    "            rs = 2 \n",
    "            break\n",
    "            \n",
    "        div = np.gcd.reduce(zf)\n",
    "    \n",
    "        rs = no_vectorlike(zf)\n",
    "        \n",
    "        if rs  == 1:\n",
    "            zn = zf/div\n",
    "            if np.any(zn>30):\n",
    "                #print(\"mayor que 30\")\n",
    "                rs = 0\n",
    "                continue\n",
    "            else:\n",
    "                #print(\"menor que 30\")\n",
    "                return (zn, div)\n",
    "                break"
   ]
  },
  {
   "cell_type": "code",
   "execution_count": 5,
   "id": "7e27210e-3bb1-433b-b532-5256c3c62382",
   "metadata": {},
   "outputs": [
    {
     "name": "stdout",
     "output_type": "stream",
     "text": [
      "solución, divisor\n"
     ]
    },
    {
     "data": {
      "text/plain": [
       "(array([-18.,  -7.,  -9.,   4.,  16.,   0.,  14.]), 5)"
      ]
     },
     "execution_count": 5,
     "metadata": {},
     "output_type": "execute_result"
    }
   ],
   "source": [
    "print(\"solución, divisor\")\n",
    "main(7)"
   ]
  },
  {
   "cell_type": "code",
   "execution_count": null,
   "id": "0895fbd6-4a3f-4875-8cbc-b28970865d0d",
   "metadata": {},
   "outputs": [],
   "source": []
  }
 ],
 "metadata": {
  "kernelspec": {
   "display_name": "Python 3 (ipykernel)",
   "language": "python",
   "name": "python3"
  },
  "language_info": {
   "codemirror_mode": {
    "name": "ipython",
    "version": 3
   },
   "file_extension": ".py",
   "mimetype": "text/x-python",
   "name": "python",
   "nbconvert_exporter": "python",
   "pygments_lexer": "ipython3",
   "version": "3.9.12"
  }
 },
 "nbformat": 4,
 "nbformat_minor": 5
}
